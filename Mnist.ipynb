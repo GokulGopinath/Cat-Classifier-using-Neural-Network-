{
  "nbformat": 4,
  "nbformat_minor": 0,
  "metadata": {
    "colab": {
      "name": "Mnist.ipynb",
      "provenance": [],
      "toc_visible": true,
      "mount_file_id": "1rKdyrO409v2mEa6sYZiTnT63MozXJmjD",
      "authorship_tag": "ABX9TyOI+p4Kikxp88V3baWODtZg",
      "include_colab_link": true
    },
    "kernelspec": {
      "name": "python3",
      "display_name": "Python 3"
    },
    "accelerator": "GPU"
  },
  "cells": [
    {
      "cell_type": "markdown",
      "metadata": {
        "id": "view-in-github",
        "colab_type": "text"
      },
      "source": [
        "<a href=\"https://colab.research.google.com/github/GokulGopinath/Deep-Learning-/blob/master/Mnist.ipynb\" target=\"_parent\"><img src=\"https://colab.research.google.com/assets/colab-badge.svg\" alt=\"Open In Colab\"/></a>"
      ]
    },
    {
      "cell_type": "code",
      "metadata": {
        "id": "CxZ0RLsA2GwV",
        "colab_type": "code",
        "colab": {
          "base_uri": "https://localhost:8080/",
          "height": 326
        },
        "outputId": "026d68c9-1e83-4ec8-b7a3-1c8176978700"
      },
      "source": [
        "!pip install matplotlib mnist keras"
      ],
      "execution_count": 2,
      "outputs": [
        {
          "output_type": "stream",
          "text": [
            "Requirement already satisfied: matplotlib in /usr/local/lib/python3.6/dist-packages (3.2.1)\n",
            "Collecting mnist\n",
            "  Downloading https://files.pythonhosted.org/packages/c6/c4/5db3bfe009f8d71f1d532bbadbd0ec203764bba3a469e4703a889db8e5e0/mnist-0.2.2-py2.py3-none-any.whl\n",
            "Requirement already satisfied: keras in /usr/local/lib/python3.6/dist-packages (2.3.1)\n",
            "Requirement already satisfied: numpy>=1.11 in /usr/local/lib/python3.6/dist-packages (from matplotlib) (1.18.3)\n",
            "Requirement already satisfied: kiwisolver>=1.0.1 in /usr/local/lib/python3.6/dist-packages (from matplotlib) (1.2.0)\n",
            "Requirement already satisfied: python-dateutil>=2.1 in /usr/local/lib/python3.6/dist-packages (from matplotlib) (2.8.1)\n",
            "Requirement already satisfied: cycler>=0.10 in /usr/local/lib/python3.6/dist-packages (from matplotlib) (0.10.0)\n",
            "Requirement already satisfied: pyparsing!=2.0.4,!=2.1.2,!=2.1.6,>=2.0.1 in /usr/local/lib/python3.6/dist-packages (from matplotlib) (2.4.7)\n",
            "Requirement already satisfied: scipy>=0.14 in /usr/local/lib/python3.6/dist-packages (from keras) (1.4.1)\n",
            "Requirement already satisfied: pyyaml in /usr/local/lib/python3.6/dist-packages (from keras) (3.13)\n",
            "Requirement already satisfied: keras-preprocessing>=1.0.5 in /usr/local/lib/python3.6/dist-packages (from keras) (1.1.0)\n",
            "Requirement already satisfied: h5py in /usr/local/lib/python3.6/dist-packages (from keras) (2.10.0)\n",
            "Requirement already satisfied: six>=1.9.0 in /usr/local/lib/python3.6/dist-packages (from keras) (1.12.0)\n",
            "Requirement already satisfied: keras-applications>=1.0.6 in /usr/local/lib/python3.6/dist-packages (from keras) (1.0.8)\n",
            "Installing collected packages: mnist\n",
            "Successfully installed mnist-0.2.2\n"
          ],
          "name": "stdout"
        }
      ]
    },
    {
      "cell_type": "markdown",
      "metadata": {
        "id": "iaubwQ1T3Rhy",
        "colab_type": "text"
      },
      "source": [
        "# Import"
      ]
    },
    {
      "cell_type": "code",
      "metadata": {
        "id": "bSaDBs_L2Vn2",
        "colab_type": "code",
        "colab": {
          "base_uri": "https://localhost:8080/",
          "height": 34
        },
        "outputId": "cba73046-740e-4287-deaf-2da3e0779185"
      },
      "source": [
        "import numpy as np\n",
        "import tensorflow as tf\n",
        "import mnist #dataset\n",
        "from keras.models import Sequential #for NN architecture\n",
        "from keras.layers import Dense##for layer\n",
        "from keras.utils import to_categorical\n",
        "import matplotlib.pyplot as plt"
      ],
      "execution_count": 3,
      "outputs": [
        {
          "output_type": "stream",
          "text": [
            "Using TensorFlow backend.\n"
          ],
          "name": "stderr"
        }
      ]
    },
    {
      "cell_type": "markdown",
      "metadata": {
        "id": "AJg44UzK3WbT",
        "colab_type": "text"
      },
      "source": [
        "## Load DataSet"
      ]
    },
    {
      "cell_type": "code",
      "metadata": {
        "id": "zyZ2kWRu2yLt",
        "colab_type": "code",
        "colab": {}
      },
      "source": [
        "train_images=mnist.train_images()\n",
        "train_labels=mnist.train_labels()\n",
        "test_images=mnist.test_images()\n",
        "test_labels=mnist.test_labels()"
      ],
      "execution_count": 0,
      "outputs": []
    },
    {
      "cell_type": "code",
      "metadata": {
        "id": "mmgkd5Nl4abW",
        "colab_type": "code",
        "colab": {
          "base_uri": "https://localhost:8080/",
          "height": 34
        },
        "outputId": "497fbe57-3b72-4c17-b97f-c404d661fc28"
      },
      "source": [
        "train_images.shape"
      ],
      "execution_count": 5,
      "outputs": [
        {
          "output_type": "execute_result",
          "data": {
            "text/plain": [
              "(60000, 28, 28)"
            ]
          },
          "metadata": {
            "tags": []
          },
          "execution_count": 5
        }
      ]
    },
    {
      "cell_type": "markdown",
      "metadata": {
        "id": "ryhGbG0w5M8W",
        "colab_type": "text"
      },
      "source": [
        "So we have 60000 28 x 28 grayscale images"
      ]
    },
    {
      "cell_type": "code",
      "metadata": {
        "id": "xgBc1dqd5JmK",
        "colab_type": "code",
        "colab": {
          "base_uri": "https://localhost:8080/",
          "height": 282
        },
        "outputId": "247c7f17-3f97-4caf-b4f8-f57d555f2067"
      },
      "source": [
        "plt.imshow(train_images[0])"
      ],
      "execution_count": 6,
      "outputs": [
        {
          "output_type": "execute_result",
          "data": {
            "text/plain": [
              "<matplotlib.image.AxesImage at 0x7fc1f6699be0>"
            ]
          },
          "metadata": {
            "tags": []
          },
          "execution_count": 6
        },
        {
          "output_type": "display_data",
          "data": {
            "image/png": "[encoded data removed]",
            "text/plain": [
              "<Figure size 432x288 with 1 Axes>"
            ]
          },
          "metadata": {
            "tags": [],
            "needs_background": "light"
          }
        }
      ]
    },
    {
      "cell_type": "markdown",
      "metadata": {
        "id": "Em7RE41G5pgz",
        "colab_type": "text"
      },
      "source": [
        "# Normalize dataset"
      ]
    },
    {
      "cell_type": "markdown",
      "metadata": {
        "id": "1IPdPpq66OhW",
        "colab_type": "text"
      },
      "source": [
        "The image has 28*28 pixels with pixel values from 0-255. Now we bring it to range [-0.5,0.5]"
      ]
    },
    {
      "cell_type": "code",
      "metadata": {
        "id": "2zLauUZ25kLa",
        "colab_type": "code",
        "colab": {
          "base_uri": "https://localhost:8080/",
          "height": 1000
        },
        "outputId": "5586e171-865c-47be-d531-a8f4a67a9001"
      },
      "source": [
        "train_images[0]"
      ],
      "execution_count": 7,
      "outputs": [
        {
          "output_type": "execute_result",
          "data": {
            "text/plain": [
              "array([[  0,   0,   0,   0,   0,   0,   0,   0,   0,   0,   0,   0,   0,\n",
              "          0,   0,   0,   0,   0,   0,   0,   0,   0,   0,   0,   0,   0,\n",
              "          0,   0],\n",
              "       [  0,   0,   0,   0,   0,   0,   0,   0,   0,   0,   0,   0,   0,\n",
              "          0,   0,   0,   0,   0,   0,   0,   0,   0,   0,   0,   0,   0,\n",
              "          0,   0],\n",
              "       [  0,   0,   0,   0,   0,   0,   0,   0,   0,   0,   0,   0,   0,\n",
              "          0,   0,   0,   0,   0,   0,   0,   0,   0,   0,   0,   0,   0,\n",
              "          0,   0],\n",
              "       [  0,   0,   0,   0,   0,   0,   0,   0,   0,   0,   0,   0,   0,\n",
              "          0,   0,   0,   0,   0,   0,   0,   0,   0,   0,   0,   0,   0,\n",
              "          0,   0],\n",
              "       [  0,   0,   0,   0,   0,   0,   0,   0,   0,   0,   0,   0,   0,\n",
              "          0,   0,   0,   0,   0,   0,   0,   0,   0,   0,   0,   0,   0,\n",
              "          0,   0],\n",
              "       [  0,   0,   0,   0,   0,   0,   0,   0,   0,   0,   0,   0,   3,\n",
              "         18,  18,  18, 126, 136, 175,  26, 166, 255, 247, 127,   0,   0,\n",
              "          0,   0],\n",
              "       [  0,   0,   0,   0,   0,   0,   0,   0,  30,  36,  94, 154, 170,\n",
              "        253, 253, 253, 253, 253, 225, 172, 253, 242, 195,  64,   0,   0,\n",
              "          0,   0],\n",
              "       [  0,   0,   0,   0,   0,   0,   0,  49, 238, 253, 253, 253, 253,\n",
              "        253, 253, 253, 253, 251,  93,  82,  82,  56,  39,   0,   0,   0,\n",
              "          0,   0],\n",
              "       [  0,   0,   0,   0,   0,   0,   0,  18, 219, 253, 253, 253, 253,\n",
              "        253, 198, 182, 247, 241,   0,   0,   0,   0,   0,   0,   0,   0,\n",
              "          0,   0],\n",
              "       [  0,   0,   0,   0,   0,   0,   0,   0,  80, 156, 107, 253, 253,\n",
              "        205,  11,   0,  43, 154,   0,   0,   0,   0,   0,   0,   0,   0,\n",
              "          0,   0],\n",
              "       [  0,   0,   0,   0,   0,   0,   0,   0,   0,  14,   1, 154, 253,\n",
              "         90,   0,   0,   0,   0,   0,   0,   0,   0,   0,   0,   0,   0,\n",
              "          0,   0],\n",
              "       [  0,   0,   0,   0,   0,   0,   0,   0,   0,   0,   0, 139, 253,\n",
              "        190,   2,   0,   0,   0,   0,   0,   0,   0,   0,   0,   0,   0,\n",
              "          0,   0],\n",
              "       [  0,   0,   0,   0,   0,   0,   0,   0,   0,   0,   0,  11, 190,\n",
              "        253,  70,   0,   0,   0,   0,   0,   0,   0,   0,   0,   0,   0,\n",
              "          0,   0],\n",
              "       [  0,   0,   0,   0,   0,   0,   0,   0,   0,   0,   0,   0,  35,\n",
              "        241, 225, 160, 108,   1,   0,   0,   0,   0,   0,   0,   0,   0,\n",
              "          0,   0],\n",
              "       [  0,   0,   0,   0,   0,   0,   0,   0,   0,   0,   0,   0,   0,\n",
              "         81, 240, 253, 253, 119,  25,   0,   0,   0,   0,   0,   0,   0,\n",
              "          0,   0],\n",
              "       [  0,   0,   0,   0,   0,   0,   0,   0,   0,   0,   0,   0,   0,\n",
              "          0,  45, 186, 253, 253, 150,  27,   0,   0,   0,   0,   0,   0,\n",
              "          0,   0],\n",
              "       [  0,   0,   0,   0,   0,   0,   0,   0,   0,   0,   0,   0,   0,\n",
              "          0,   0,  16,  93, 252, 253, 187,   0,   0,   0,   0,   0,   0,\n",
              "          0,   0],\n",
              "       [  0,   0,   0,   0,   0,   0,   0,   0,   0,   0,   0,   0,   0,\n",
              "          0,   0,   0,   0, 249, 253, 249,  64,   0,   0,   0,   0,   0,\n",
              "          0,   0],\n",
              "       [  0,   0,   0,   0,   0,   0,   0,   0,   0,   0,   0,   0,   0,\n",
              "          0,  46, 130, 183, 253, 253, 207,   2,   0,   0,   0,   0,   0,\n",
              "          0,   0],\n",
              "       [  0,   0,   0,   0,   0,   0,   0,   0,   0,   0,   0,   0,  39,\n",
              "        148, 229, 253, 253, 253, 250, 182,   0,   0,   0,   0,   0,   0,\n",
              "          0,   0],\n",
              "       [  0,   0,   0,   0,   0,   0,   0,   0,   0,   0,  24, 114, 221,\n",
              "        253, 253, 253, 253, 201,  78,   0,   0,   0,   0,   0,   0,   0,\n",
              "          0,   0],\n",
              "       [  0,   0,   0,   0,   0,   0,   0,   0,  23,  66, 213, 253, 253,\n",
              "        253, 253, 198,  81,   2,   0,   0,   0,   0,   0,   0,   0,   0,\n",
              "          0,   0],\n",
              "       [  0,   0,   0,   0,   0,   0,  18, 171, 219, 253, 253, 253, 253,\n",
              "        195,  80,   9,   0,   0,   0,   0,   0,   0,   0,   0,   0,   0,\n",
              "          0,   0],\n",
              "       [  0,   0,   0,   0,  55, 172, 226, 253, 253, 253, 253, 244, 133,\n",
              "         11,   0,   0,   0,   0,   0,   0,   0,   0,   0,   0,   0,   0,\n",
              "          0,   0],\n",
              "       [  0,   0,   0,   0, 136, 253, 253, 253, 212, 135, 132,  16,   0,\n",
              "          0,   0,   0,   0,   0,   0,   0,   0,   0,   0,   0,   0,   0,\n",
              "          0,   0],\n",
              "       [  0,   0,   0,   0,   0,   0,   0,   0,   0,   0,   0,   0,   0,\n",
              "          0,   0,   0,   0,   0,   0,   0,   0,   0,   0,   0,   0,   0,\n",
              "          0,   0],\n",
              "       [  0,   0,   0,   0,   0,   0,   0,   0,   0,   0,   0,   0,   0,\n",
              "          0,   0,   0,   0,   0,   0,   0,   0,   0,   0,   0,   0,   0,\n",
              "          0,   0],\n",
              "       [  0,   0,   0,   0,   0,   0,   0,   0,   0,   0,   0,   0,   0,\n",
              "          0,   0,   0,   0,   0,   0,   0,   0,   0,   0,   0,   0,   0,\n",
              "          0,   0]], dtype=uint8)"
            ]
          },
          "metadata": {
            "tags": []
          },
          "execution_count": 7
        }
      ]
    },
    {
      "cell_type": "code",
      "metadata": {
        "id": "w7H6MLLM6Ls8",
        "colab_type": "code",
        "colab": {
          "base_uri": "https://localhost:8080/",
          "height": 1000
        },
        "outputId": "533645c5-e0ba-4556-f20c-c2026a277ff3"
      },
      "source": [
        "train_n_images=train_images/255#this will bring pixel valu range to [0,1]\n",
        "train_n_images=train_n_images-0.5#pixel values in range [-0.5,0.5]\n",
        "train_n_images[0] "
      ],
      "execution_count": 8,
      "outputs": [
        {
          "output_type": "execute_result",
          "data": {
            "text/plain": [
              "array([[-0.5       , -0.5       , -0.5       , -0.5       , -0.5       ,\n",
              "        -0.5       , -0.5       , -0.5       , -0.5       , -0.5       ,\n",
              "        -0.5       , -0.5       , -0.5       , -0.5       , -0.5       ,\n",
              "        -0.5       , -0.5       , -0.5       , -0.5       , -0.5       ,\n",
              "        -0.5       , -0.5       , -0.5       , -0.5       , -0.5       ,\n",
              "        -0.5       , -0.5       , -0.5       ],\n",
              "       [-0.5       , -0.5       , -0.5       , -0.5       , -0.5       ,\n",
              "        -0.5       , -0.5       , -0.5       , -0.5       , -0.5       ,\n",
              "        -0.5       , -0.5       , -0.5       , -0.5       , -0.5       ,\n",
              "        -0.5       , -0.5       , -0.5       , -0.5       , -0.5       ,\n",
              "        -0.5       , -0.5       , -0.5       , -0.5       , -0.5       ,\n",
              "        -0.5       , -0.5       , -0.5       ],\n",
              "       [-0.5       , -0.5       , -0.5       , -0.5       , -0.5       ,\n",
              "        -0.5       , -0.5       , -0.5       , -0.5       , -0.5       ,\n",
              "        -0.5       , -0.5       , -0.5       , -0.5       , -0.5       ,\n",
              "        -0.5       , -0.5       , -0.5       , -0.5       , -0.5       ,\n",
              "        -0.5       , -0.5       , -0.5       , -0.5       , -0.5       ,\n",
              "        -0.5       , -0.5       , -0.5       ],\n",
              "       [-0.5       , -0.5       , -0.5       , -0.5       , -0.5       ,\n",
              "        -0.5       , -0.5       , -0.5       , -0.5       , -0.5       ,\n",
              "        -0.5       , -0.5       , -0.5       , -0.5       , -0.5       ,\n",
              "        -0.5       , -0.5       , -0.5       , -0.5       , -0.5       ,\n",
              "        -0.5       , -0.5       , -0.5       , -0.5       , -0.5       ,\n",
              "        -0.5       , -0.5       , -0.5       ],\n",
              "       [-0.5       , -0.5       , -0.5       , -0.5       , -0.5       ,\n",
              "        -0.5       , -0.5       , -0.5       , -0.5       , -0.5       ,\n",
              "        -0.5       , -0.5       , -0.5       , -0.5       , -0.5       ,\n",
              "        -0.5       , -0.5       , -0.5       , -0.5       , -0.5       ,\n",
              "        -0.5       , -0.5       , -0.5       , -0.5       , -0.5       ,\n",
              "        -0.5       , -0.5       , -0.5       ],\n",
              "       [-0.5       , -0.5       , -0.5       , -0.5       , -0.5       ,\n",
              "        -0.5       , -0.5       , -0.5       , -0.5       , -0.5       ,\n",
              "        -0.5       , -0.5       , -0.48823529, -0.42941176, -0.42941176,\n",
              "        -0.42941176, -0.00588235,  0.03333333,  0.18627451, -0.39803922,\n",
              "         0.15098039,  0.5       ,  0.46862745, -0.00196078, -0.5       ,\n",
              "        -0.5       , -0.5       , -0.5       ],\n",
              "       [-0.5       , -0.5       , -0.5       , -0.5       , -0.5       ,\n",
              "        -0.5       , -0.5       , -0.5       , -0.38235294, -0.35882353,\n",
              "        -0.13137255,  0.10392157,  0.16666667,  0.49215686,  0.49215686,\n",
              "         0.49215686,  0.49215686,  0.49215686,  0.38235294,  0.1745098 ,\n",
              "         0.49215686,  0.44901961,  0.26470588, -0.24901961, -0.5       ,\n",
              "        -0.5       , -0.5       , -0.5       ],\n",
              "       [-0.5       , -0.5       , -0.5       , -0.5       , -0.5       ,\n",
              "        -0.5       , -0.5       , -0.30784314,  0.43333333,  0.49215686,\n",
              "         0.49215686,  0.49215686,  0.49215686,  0.49215686,  0.49215686,\n",
              "         0.49215686,  0.49215686,  0.48431373, -0.13529412, -0.17843137,\n",
              "        -0.17843137, -0.28039216, -0.34705882, -0.5       , -0.5       ,\n",
              "        -0.5       , -0.5       , -0.5       ],\n",
              "       [-0.5       , -0.5       , -0.5       , -0.5       , -0.5       ,\n",
              "        -0.5       , -0.5       , -0.42941176,  0.35882353,  0.49215686,\n",
              "         0.49215686,  0.49215686,  0.49215686,  0.49215686,  0.27647059,\n",
              "         0.21372549,  0.46862745,  0.44509804, -0.5       , -0.5       ,\n",
              "        -0.5       , -0.5       , -0.5       , -0.5       , -0.5       ,\n",
              "        -0.5       , -0.5       , -0.5       ],\n",
              "       [-0.5       , -0.5       , -0.5       , -0.5       , -0.5       ,\n",
              "        -0.5       , -0.5       , -0.5       , -0.18627451,  0.11176471,\n",
              "        -0.08039216,  0.49215686,  0.49215686,  0.30392157, -0.45686275,\n",
              "        -0.5       , -0.33137255,  0.10392157, -0.5       , -0.5       ,\n",
              "        -0.5       , -0.5       , -0.5       , -0.5       , -0.5       ,\n",
              "        -0.5       , -0.5       , -0.5       ],\n",
              "       [-0.5       , -0.5       , -0.5       , -0.5       , -0.5       ,\n",
              "        -0.5       , -0.5       , -0.5       , -0.5       , -0.44509804,\n",
              "        -0.49607843,  0.10392157,  0.49215686, -0.14705882, -0.5       ,\n",
              "        -0.5       , -0.5       , -0.5       , -0.5       , -0.5       ,\n",
              "        -0.5       , -0.5       , -0.5       , -0.5       , -0.5       ,\n",
              "        -0.5       , -0.5       , -0.5       ],\n",
              "       [-0.5       , -0.5       , -0.5       , -0.5       , -0.5       ,\n",
              "        -0.5       , -0.5       , -0.5       , -0.5       , -0.5       ,\n",
              "        -0.5       ,  0.04509804,  0.49215686,  0.24509804, -0.49215686,\n",
              "        -0.5       , -0.5       , -0.5       , -0.5       , -0.5       ,\n",
              "        -0.5       , -0.5       , -0.5       , -0.5       , -0.5       ,\n",
              "        -0.5       , -0.5       , -0.5       ],\n",
              "       [-0.5       , -0.5       , -0.5       , -0.5       , -0.5       ,\n",
              "        -0.5       , -0.5       , -0.5       , -0.5       , -0.5       ,\n",
              "        -0.5       , -0.45686275,  0.24509804,  0.49215686, -0.2254902 ,\n",
              "        -0.5       , -0.5       , -0.5       , -0.5       , -0.5       ,\n",
              "        -0.5       , -0.5       , -0.5       , -0.5       , -0.5       ,\n",
              "        -0.5       , -0.5       , -0.5       ],\n",
              "       [-0.5       , -0.5       , -0.5       , -0.5       , -0.5       ,\n",
              "        -0.5       , -0.5       , -0.5       , -0.5       , -0.5       ,\n",
              "        -0.5       , -0.5       , -0.3627451 ,  0.44509804,  0.38235294,\n",
              "         0.12745098, -0.07647059, -0.49607843, -0.5       , -0.5       ,\n",
              "        -0.5       , -0.5       , -0.5       , -0.5       , -0.5       ,\n",
              "        -0.5       , -0.5       , -0.5       ],\n",
              "       [-0.5       , -0.5       , -0.5       , -0.5       , -0.5       ,\n",
              "        -0.5       , -0.5       , -0.5       , -0.5       , -0.5       ,\n",
              "        -0.5       , -0.5       , -0.5       , -0.18235294,  0.44117647,\n",
              "         0.49215686,  0.49215686, -0.03333333, -0.40196078, -0.5       ,\n",
              "        -0.5       , -0.5       , -0.5       , -0.5       , -0.5       ,\n",
              "        -0.5       , -0.5       , -0.5       ],\n",
              "       [-0.5       , -0.5       , -0.5       , -0.5       , -0.5       ,\n",
              "        -0.5       , -0.5       , -0.5       , -0.5       , -0.5       ,\n",
              "        -0.5       , -0.5       , -0.5       , -0.5       , -0.32352941,\n",
              "         0.22941176,  0.49215686,  0.49215686,  0.08823529, -0.39411765,\n",
              "        -0.5       , -0.5       , -0.5       , -0.5       , -0.5       ,\n",
              "        -0.5       , -0.5       , -0.5       ],\n",
              "       [-0.5       , -0.5       , -0.5       , -0.5       , -0.5       ,\n",
              "        -0.5       , -0.5       , -0.5       , -0.5       , -0.5       ,\n",
              "        -0.5       , -0.5       , -0.5       , -0.5       , -0.5       ,\n",
              "        -0.4372549 , -0.13529412,  0.48823529,  0.49215686,  0.23333333,\n",
              "        -0.5       , -0.5       , -0.5       , -0.5       , -0.5       ,\n",
              "        -0.5       , -0.5       , -0.5       ],\n",
              "       [-0.5       , -0.5       , -0.5       , -0.5       , -0.5       ,\n",
              "        -0.5       , -0.5       , -0.5       , -0.5       , -0.5       ,\n",
              "        -0.5       , -0.5       , -0.5       , -0.5       , -0.5       ,\n",
              "        -0.5       , -0.5       ,  0.47647059,  0.49215686,  0.47647059,\n",
              "        -0.24901961, -0.5       , -0.5       , -0.5       , -0.5       ,\n",
              "        -0.5       , -0.5       , -0.5       ],\n",
              "       [-0.5       , -0.5       , -0.5       , -0.5       , -0.5       ,\n",
              "        -0.5       , -0.5       , -0.5       , -0.5       , -0.5       ,\n",
              "        -0.5       , -0.5       , -0.5       , -0.5       , -0.31960784,\n",
              "         0.00980392,  0.21764706,  0.49215686,  0.49215686,  0.31176471,\n",
              "        -0.49215686, -0.5       , -0.5       , -0.5       , -0.5       ,\n",
              "        -0.5       , -0.5       , -0.5       ],\n",
              "       [-0.5       , -0.5       , -0.5       , -0.5       , -0.5       ,\n",
              "        -0.5       , -0.5       , -0.5       , -0.5       , -0.5       ,\n",
              "        -0.5       , -0.5       , -0.34705882,  0.08039216,  0.39803922,\n",
              "         0.49215686,  0.49215686,  0.49215686,  0.48039216,  0.21372549,\n",
              "        -0.5       , -0.5       , -0.5       , -0.5       , -0.5       ,\n",
              "        -0.5       , -0.5       , -0.5       ],\n",
              "       [-0.5       , -0.5       , -0.5       , -0.5       , -0.5       ,\n",
              "        -0.5       , -0.5       , -0.5       , -0.5       , -0.5       ,\n",
              "        -0.40588235, -0.05294118,  0.36666667,  0.49215686,  0.49215686,\n",
              "         0.49215686,  0.49215686,  0.28823529, -0.19411765, -0.5       ,\n",
              "        -0.5       , -0.5       , -0.5       , -0.5       , -0.5       ,\n",
              "        -0.5       , -0.5       , -0.5       ],\n",
              "       [-0.5       , -0.5       , -0.5       , -0.5       , -0.5       ,\n",
              "        -0.5       , -0.5       , -0.5       , -0.40980392, -0.24117647,\n",
              "         0.33529412,  0.49215686,  0.49215686,  0.49215686,  0.49215686,\n",
              "         0.27647059, -0.18235294, -0.49215686, -0.5       , -0.5       ,\n",
              "        -0.5       , -0.5       , -0.5       , -0.5       , -0.5       ,\n",
              "        -0.5       , -0.5       , -0.5       ],\n",
              "       [-0.5       , -0.5       , -0.5       , -0.5       , -0.5       ,\n",
              "        -0.5       , -0.42941176,  0.17058824,  0.35882353,  0.49215686,\n",
              "         0.49215686,  0.49215686,  0.49215686,  0.26470588, -0.18627451,\n",
              "        -0.46470588, -0.5       , -0.5       , -0.5       , -0.5       ,\n",
              "        -0.5       , -0.5       , -0.5       , -0.5       , -0.5       ,\n",
              "        -0.5       , -0.5       , -0.5       ],\n",
              "       [-0.5       , -0.5       , -0.5       , -0.5       , -0.28431373,\n",
              "         0.1745098 ,  0.38627451,  0.49215686,  0.49215686,  0.49215686,\n",
              "         0.49215686,  0.45686275,  0.02156863, -0.45686275, -0.5       ,\n",
              "        -0.5       , -0.5       , -0.5       , -0.5       , -0.5       ,\n",
              "        -0.5       , -0.5       , -0.5       , -0.5       , -0.5       ,\n",
              "        -0.5       , -0.5       , -0.5       ],\n",
              "       [-0.5       , -0.5       , -0.5       , -0.5       ,  0.03333333,\n",
              "         0.49215686,  0.49215686,  0.49215686,  0.33137255,  0.02941176,\n",
              "         0.01764706, -0.4372549 , -0.5       , -0.5       , -0.5       ,\n",
              "        -0.5       , -0.5       , -0.5       , -0.5       , -0.5       ,\n",
              "        -0.5       , -0.5       , -0.5       , -0.5       , -0.5       ,\n",
              "        -0.5       , -0.5       , -0.5       ],\n",
              "       [-0.5       , -0.5       , -0.5       , -0.5       , -0.5       ,\n",
              "        -0.5       , -0.5       , -0.5       , -0.5       , -0.5       ,\n",
              "        -0.5       , -0.5       , -0.5       , -0.5       , -0.5       ,\n",
              "        -0.5       , -0.5       , -0.5       , -0.5       , -0.5       ,\n",
              "        -0.5       , -0.5       , -0.5       , -0.5       , -0.5       ,\n",
              "        -0.5       , -0.5       , -0.5       ],\n",
              "       [-0.5       , -0.5       , -0.5       , -0.5       , -0.5       ,\n",
              "        -0.5       , -0.5       , -0.5       , -0.5       , -0.5       ,\n",
              "        -0.5       , -0.5       , -0.5       , -0.5       , -0.5       ,\n",
              "        -0.5       , -0.5       , -0.5       , -0.5       , -0.5       ,\n",
              "        -0.5       , -0.5       , -0.5       , -0.5       , -0.5       ,\n",
              "        -0.5       , -0.5       , -0.5       ],\n",
              "       [-0.5       , -0.5       , -0.5       , -0.5       , -0.5       ,\n",
              "        -0.5       , -0.5       , -0.5       , -0.5       , -0.5       ,\n",
              "        -0.5       , -0.5       , -0.5       , -0.5       , -0.5       ,\n",
              "        -0.5       , -0.5       , -0.5       , -0.5       , -0.5       ,\n",
              "        -0.5       , -0.5       , -0.5       , -0.5       , -0.5       ,\n",
              "        -0.5       , -0.5       , -0.5       ]])"
            ]
          },
          "metadata": {
            "tags": []
          },
          "execution_count": 8
        }
      ]
    },
    {
      "cell_type": "code",
      "metadata": {
        "id": "i29OvpS-7Li6",
        "colab_type": "code",
        "colab": {
          "base_uri": "https://localhost:8080/",
          "height": 1000
        },
        "outputId": "4c780198-ea61-4f41-9a2c-64013e49a7dc"
      },
      "source": [
        "test_n_images=test_images/255#this will bring pixel value in range to [0,1]\n",
        "test_n_images=test_n_images-0.5#pixel values in range [-0.5,0.5]\n",
        "test_n_images[0] "
      ],
      "execution_count": 9,
      "outputs": [
        {
          "output_type": "execute_result",
          "data": {
            "text/plain": [
              "array([[-0.5       , -0.5       , -0.5       , -0.5       , -0.5       ,\n",
              "        -0.5       , -0.5       , -0.5       , -0.5       , -0.5       ,\n",
              "        -0.5       , -0.5       , -0.5       , -0.5       , -0.5       ,\n",
              "        -0.5       , -0.5       , -0.5       , -0.5       , -0.5       ,\n",
              "        -0.5       , -0.5       , -0.5       , -0.5       , -0.5       ,\n",
              "        -0.5       , -0.5       , -0.5       ],\n",
              "       [-0.5       , -0.5       , -0.5       , -0.5       , -0.5       ,\n",
              "        -0.5       , -0.5       , -0.5       , -0.5       , -0.5       ,\n",
              "        -0.5       , -0.5       , -0.5       , -0.5       , -0.5       ,\n",
              "        -0.5       , -0.5       , -0.5       , -0.5       , -0.5       ,\n",
              "        -0.5       , -0.5       , -0.5       , -0.5       , -0.5       ,\n",
              "        -0.5       , -0.5       , -0.5       ],\n",
              "       [-0.5       , -0.5       , -0.5       , -0.5       , -0.5       ,\n",
              "        -0.5       , -0.5       , -0.5       , -0.5       , -0.5       ,\n",
              "        -0.5       , -0.5       , -0.5       , -0.5       , -0.5       ,\n",
              "        -0.5       , -0.5       , -0.5       , -0.5       , -0.5       ,\n",
              "        -0.5       , -0.5       , -0.5       , -0.5       , -0.5       ,\n",
              "        -0.5       , -0.5       , -0.5       ],\n",
              "       [-0.5       , -0.5       , -0.5       , -0.5       , -0.5       ,\n",
              "        -0.5       , -0.5       , -0.5       , -0.5       , -0.5       ,\n",
              "        -0.5       , -0.5       , -0.5       , -0.5       , -0.5       ,\n",
              "        -0.5       , -0.5       , -0.5       , -0.5       , -0.5       ,\n",
              "        -0.5       , -0.5       , -0.5       , -0.5       , -0.5       ,\n",
              "        -0.5       , -0.5       , -0.5       ],\n",
              "       [-0.5       , -0.5       , -0.5       , -0.5       , -0.5       ,\n",
              "        -0.5       , -0.5       , -0.5       , -0.5       , -0.5       ,\n",
              "        -0.5       , -0.5       , -0.5       , -0.5       , -0.5       ,\n",
              "        -0.5       , -0.5       , -0.5       , -0.5       , -0.5       ,\n",
              "        -0.5       , -0.5       , -0.5       , -0.5       , -0.5       ,\n",
              "        -0.5       , -0.5       , -0.5       ],\n",
              "       [-0.5       , -0.5       , -0.5       , -0.5       , -0.5       ,\n",
              "        -0.5       , -0.5       , -0.5       , -0.5       , -0.5       ,\n",
              "        -0.5       , -0.5       , -0.5       , -0.5       , -0.5       ,\n",
              "        -0.5       , -0.5       , -0.5       , -0.5       , -0.5       ,\n",
              "        -0.5       , -0.5       , -0.5       , -0.5       , -0.5       ,\n",
              "        -0.5       , -0.5       , -0.5       ],\n",
              "       [-0.5       , -0.5       , -0.5       , -0.5       , -0.5       ,\n",
              "        -0.5       , -0.5       , -0.5       , -0.5       , -0.5       ,\n",
              "        -0.5       , -0.5       , -0.5       , -0.5       , -0.5       ,\n",
              "        -0.5       , -0.5       , -0.5       , -0.5       , -0.5       ,\n",
              "        -0.5       , -0.5       , -0.5       , -0.5       , -0.5       ,\n",
              "        -0.5       , -0.5       , -0.5       ],\n",
              "       [-0.5       , -0.5       , -0.5       , -0.5       , -0.5       ,\n",
              "        -0.5       , -0.17058824,  0.2254902 ,  0.12352941,  0.09215686,\n",
              "        -0.26470588, -0.35882353, -0.5       , -0.5       , -0.5       ,\n",
              "        -0.5       , -0.5       , -0.5       , -0.5       , -0.5       ,\n",
              "        -0.5       , -0.5       , -0.5       , -0.5       , -0.5       ,\n",
              "        -0.5       , -0.5       , -0.5       ],\n",
              "       [-0.5       , -0.5       , -0.5       , -0.5       , -0.5       ,\n",
              "        -0.5       ,  0.37058824,  0.49607843,  0.49607843,  0.49607843,\n",
              "         0.49607843,  0.44509804,  0.27647059,  0.27647059,  0.27647059,\n",
              "         0.27647059,  0.27647059,  0.27647059,  0.27647059,  0.27647059,\n",
              "         0.16666667, -0.29607843, -0.5       , -0.5       , -0.5       ,\n",
              "        -0.5       , -0.5       , -0.5       ],\n",
              "       [-0.5       , -0.5       , -0.5       , -0.5       , -0.5       ,\n",
              "        -0.5       , -0.2372549 , -0.05294118, -0.21764706, -0.05294118,\n",
              "         0.13921569,  0.39019608,  0.49607843,  0.38235294,  0.49607843,\n",
              "         0.49607843,  0.49607843,  0.48039216,  0.39803922,  0.49607843,\n",
              "         0.49607843,  0.04901961, -0.5       , -0.5       , -0.5       ,\n",
              "        -0.5       , -0.5       , -0.5       ],\n",
              "       [-0.5       , -0.5       , -0.5       , -0.5       , -0.5       ,\n",
              "        -0.5       , -0.5       , -0.5       , -0.5       , -0.5       ,\n",
              "        -0.5       , -0.43333333, -0.24117647, -0.44509804, -0.2372549 ,\n",
              "        -0.2372549 , -0.2372549 , -0.26862745, -0.41764706,  0.4254902 ,\n",
              "         0.49607843, -0.08431373, -0.5       , -0.5       , -0.5       ,\n",
              "        -0.5       , -0.5       , -0.5       ],\n",
              "       [-0.5       , -0.5       , -0.5       , -0.5       , -0.5       ,\n",
              "        -0.5       , -0.5       , -0.5       , -0.5       , -0.5       ,\n",
              "        -0.5       , -0.5       , -0.5       , -0.5       , -0.5       ,\n",
              "        -0.5       , -0.5       , -0.5       , -0.1745098 ,  0.49215686,\n",
              "         0.31960784, -0.42941176, -0.5       , -0.5       , -0.5       ,\n",
              "        -0.5       , -0.5       , -0.5       ],\n",
              "       [-0.5       , -0.5       , -0.5       , -0.5       , -0.5       ,\n",
              "        -0.5       , -0.5       , -0.5       , -0.5       , -0.5       ,\n",
              "        -0.5       , -0.5       , -0.5       , -0.5       , -0.5       ,\n",
              "        -0.5       , -0.5       , -0.41372549,  0.41372549,  0.5       ,\n",
              "        -0.1745098 , -0.5       , -0.5       , -0.5       , -0.5       ,\n",
              "        -0.5       , -0.5       , -0.5       ],\n",
              "       [-0.5       , -0.5       , -0.5       , -0.5       , -0.5       ,\n",
              "        -0.5       , -0.5       , -0.5       , -0.5       , -0.5       ,\n",
              "        -0.5       , -0.5       , -0.5       , -0.5       , -0.5       ,\n",
              "        -0.5       , -0.5       ,  0.00588235,  0.49607843,  0.43333333,\n",
              "        -0.32745098, -0.5       , -0.5       , -0.5       , -0.5       ,\n",
              "        -0.5       , -0.5       , -0.5       ],\n",
              "       [-0.5       , -0.5       , -0.5       , -0.5       , -0.5       ,\n",
              "        -0.5       , -0.5       , -0.5       , -0.5       , -0.5       ,\n",
              "        -0.5       , -0.5       , -0.5       , -0.5       , -0.5       ,\n",
              "        -0.5       , -0.26862745,  0.47647059,  0.49607843, -0.25686275,\n",
              "        -0.5       , -0.5       , -0.5       , -0.5       , -0.5       ,\n",
              "        -0.5       , -0.5       , -0.5       ],\n",
              "       [-0.5       , -0.5       , -0.5       , -0.5       , -0.5       ,\n",
              "        -0.5       , -0.5       , -0.5       , -0.5       , -0.5       ,\n",
              "        -0.5       , -0.5       , -0.5       , -0.5       , -0.5       ,\n",
              "        -0.5       ,  0.02156863,  0.49607843,  0.23333333, -0.48039216,\n",
              "        -0.5       , -0.5       , -0.5       , -0.5       , -0.5       ,\n",
              "        -0.5       , -0.5       , -0.5       ],\n",
              "       [-0.5       , -0.5       , -0.5       , -0.5       , -0.5       ,\n",
              "        -0.5       , -0.5       , -0.5       , -0.5       , -0.5       ,\n",
              "        -0.5       , -0.5       , -0.5       , -0.5       , -0.5       ,\n",
              "        -0.46470588,  0.30392157,  0.47254902, -0.27254902, -0.5       ,\n",
              "        -0.5       , -0.5       , -0.5       , -0.5       , -0.5       ,\n",
              "        -0.5       , -0.5       , -0.5       ],\n",
              "       [-0.5       , -0.5       , -0.5       , -0.5       , -0.5       ,\n",
              "        -0.5       , -0.5       , -0.5       , -0.5       , -0.5       ,\n",
              "        -0.5       , -0.5       , -0.5       , -0.5       , -0.5       ,\n",
              "        -0.00588235,  0.49607843,  0.21372549, -0.5       , -0.5       ,\n",
              "        -0.5       , -0.5       , -0.5       , -0.5       , -0.5       ,\n",
              "        -0.5       , -0.5       , -0.5       ],\n",
              "       [-0.5       , -0.5       , -0.5       , -0.5       , -0.5       ,\n",
              "        -0.5       , -0.5       , -0.5       , -0.5       , -0.5       ,\n",
              "        -0.5       , -0.5       , -0.5       , -0.5       , -0.20588235,\n",
              "         0.48431373,  0.44117647, -0.27647059, -0.5       , -0.5       ,\n",
              "        -0.5       , -0.5       , -0.5       , -0.5       , -0.5       ,\n",
              "        -0.5       , -0.5       , -0.5       ],\n",
              "       [-0.5       , -0.5       , -0.5       , -0.5       , -0.5       ,\n",
              "        -0.5       , -0.5       , -0.5       , -0.5       , -0.5       ,\n",
              "        -0.5       , -0.5       , -0.5       , -0.4254902 ,  0.36666667,\n",
              "         0.49607843,  0.15098039, -0.5       , -0.5       , -0.5       ,\n",
              "        -0.5       , -0.5       , -0.5       , -0.5       , -0.5       ,\n",
              "        -0.5       , -0.5       , -0.5       ],\n",
              "       [-0.5       , -0.5       , -0.5       , -0.5       , -0.5       ,\n",
              "        -0.5       , -0.5       , -0.5       , -0.5       , -0.5       ,\n",
              "        -0.5       , -0.5       , -0.48823529,  0.29607843,  0.49607843,\n",
              "         0.35882353, -0.3627451 , -0.5       , -0.5       , -0.5       ,\n",
              "        -0.5       , -0.5       , -0.5       , -0.5       , -0.5       ,\n",
              "        -0.5       , -0.5       , -0.5       ],\n",
              "       [-0.5       , -0.5       , -0.5       , -0.5       , -0.5       ,\n",
              "        -0.5       , -0.5       , -0.5       , -0.5       , -0.5       ,\n",
              "        -0.5       , -0.5       , -0.35098039,  0.49607843,  0.49607843,\n",
              "        -0.19803922, -0.5       , -0.5       , -0.5       , -0.5       ,\n",
              "        -0.5       , -0.5       , -0.5       , -0.5       , -0.5       ,\n",
              "        -0.5       , -0.5       , -0.5       ],\n",
              "       [-0.5       , -0.5       , -0.5       , -0.5       , -0.5       ,\n",
              "        -0.5       , -0.5       , -0.5       , -0.5       , -0.5       ,\n",
              "        -0.5       , -0.37843137,  0.37843137,  0.49607843, -0.04901961,\n",
              "        -0.49607843, -0.5       , -0.5       , -0.5       , -0.5       ,\n",
              "        -0.5       , -0.5       , -0.5       , -0.5       , -0.5       ,\n",
              "        -0.5       , -0.5       , -0.5       ],\n",
              "       [-0.5       , -0.5       , -0.5       , -0.5       , -0.5       ,\n",
              "        -0.5       , -0.5       , -0.5       , -0.5       , -0.5       ,\n",
              "        -0.5       ,  0.02156863,  0.49607843,  0.49607843, -0.29607843,\n",
              "        -0.5       , -0.5       , -0.5       , -0.5       , -0.5       ,\n",
              "        -0.5       , -0.5       , -0.5       , -0.5       , -0.5       ,\n",
              "        -0.5       , -0.5       , -0.5       ],\n",
              "       [-0.5       , -0.5       , -0.5       , -0.5       , -0.5       ,\n",
              "        -0.5       , -0.5       , -0.5       , -0.5       , -0.5       ,\n",
              "        -0.26078431,  0.44901961,  0.49607843,  0.49607843, -0.29607843,\n",
              "        -0.5       , -0.5       , -0.5       , -0.5       , -0.5       ,\n",
              "        -0.5       , -0.5       , -0.5       , -0.5       , -0.5       ,\n",
              "        -0.5       , -0.5       , -0.5       ],\n",
              "       [-0.5       , -0.5       , -0.5       , -0.5       , -0.5       ,\n",
              "        -0.5       , -0.5       , -0.5       , -0.5       , -0.5       ,\n",
              "        -0.0254902 ,  0.49607843,  0.49607843,  0.35882353, -0.34313725,\n",
              "        -0.5       , -0.5       , -0.5       , -0.5       , -0.5       ,\n",
              "        -0.5       , -0.5       , -0.5       , -0.5       , -0.5       ,\n",
              "        -0.5       , -0.5       , -0.5       ],\n",
              "       [-0.5       , -0.5       , -0.5       , -0.5       , -0.5       ,\n",
              "        -0.5       , -0.5       , -0.5       , -0.5       , -0.5       ,\n",
              "        -0.0254902 ,  0.49607843,  0.31176471, -0.42941176, -0.5       ,\n",
              "        -0.5       , -0.5       , -0.5       , -0.5       , -0.5       ,\n",
              "        -0.5       , -0.5       , -0.5       , -0.5       , -0.5       ,\n",
              "        -0.5       , -0.5       , -0.5       ],\n",
              "       [-0.5       , -0.5       , -0.5       , -0.5       , -0.5       ,\n",
              "        -0.5       , -0.5       , -0.5       , -0.5       , -0.5       ,\n",
              "        -0.5       , -0.5       , -0.5       , -0.5       , -0.5       ,\n",
              "        -0.5       , -0.5       , -0.5       , -0.5       , -0.5       ,\n",
              "        -0.5       , -0.5       , -0.5       , -0.5       , -0.5       ,\n",
              "        -0.5       , -0.5       , -0.5       ]])"
            ]
          },
          "metadata": {
            "tags": []
          },
          "execution_count": 9
        }
      ]
    },
    {
      "cell_type": "markdown",
      "metadata": {
        "id": "_EFptZyE8yl1",
        "colab_type": "text"
      },
      "source": [
        "# Flatten the images"
      ]
    },
    {
      "cell_type": "markdown",
      "metadata": {
        "id": "NDDifiPW840N",
        "colab_type": "text"
      },
      "source": [
        "Flatten 28x28 image to 784 dimension vector"
      ]
    },
    {
      "cell_type": "code",
      "metadata": {
        "id": "evVkATr57gIV",
        "colab_type": "code",
        "colab": {
          "base_uri": "https://localhost:8080/",
          "height": 34
        },
        "outputId": "5f87526a-c3eb-4033-8e73-8fba34bba844"
      },
      "source": [
        "train_n_images=train_n_images.reshape((-1,784))\n",
        "test_n_images=test_n_images.reshape((-1,784))\n",
        "print(train_n_images.shape,test_n_images.shape)"
      ],
      "execution_count": 10,
      "outputs": [
        {
          "output_type": "stream",
          "text": [
            "(60000, 784) (10000, 784)\n"
          ],
          "name": "stdout"
        }
      ]
    },
    {
      "cell_type": "markdown",
      "metadata": {
        "id": "Wu3zBCrSA0Wp",
        "colab_type": "text"
      },
      "source": [
        "# ?? [Fn code You want to see]"
      ]
    },
    {
      "cell_type": "code",
      "metadata": {
        "id": "1oTGMAOzArVb",
        "colab_type": "code",
        "colab": {}
      },
      "source": [
        "??Sequential"
      ],
      "execution_count": 0,
      "outputs": []
    },
    {
      "cell_type": "markdown",
      "metadata": {
        "id": "sjSjuv8BAdMN",
        "colab_type": "text"
      },
      "source": [
        "# Build model"
      ]
    },
    {
      "cell_type": "markdown",
      "metadata": {
        "id": "0qSc4IR-Bwd4",
        "colab_type": "text"
      },
      "source": [
        "Build a model with 3 layer\n",
        "2 layers:64 neurons and relu fn\n",
        "1 layer(O/p layer):10 neurons for o/p 0-9 and softmax fn"
      ]
    },
    {
      "cell_type": "code",
      "metadata": {
        "id": "Wejawv6r8qiD",
        "colab_type": "code",
        "colab": {
          "base_uri": "https://localhost:8080/",
          "height": 255
        },
        "outputId": "60f7c29a-7e70-4c27-8fbf-520db4ac1339"
      },
      "source": [
        "model=Sequential()\n",
        "model.add(Dense(64,activation='relu',input_dim=784))\n",
        "model.add(Dense(64,activation='relu'))\n",
        "model.add(Dense(10,activation='softmax'))\n",
        "model.summary()"
      ],
      "execution_count": 12,
      "outputs": [
        {
          "output_type": "stream",
          "text": [
            "Model: \"sequential_1\"\n",
            "_________________________________________________________________\n",
            "Layer (type)                 Output Shape              Param #   \n",
            "=================================================================\n",
            "dense_1 (Dense)              (None, 64)                50240     \n",
            "_________________________________________________________________\n",
            "dense_2 (Dense)              (None, 64)                4160      \n",
            "_________________________________________________________________\n",
            "dense_3 (Dense)              (None, 10)                650       \n",
            "=================================================================\n",
            "Total params: 55,050\n",
            "Trainable params: 55,050\n",
            "Non-trainable params: 0\n",
            "_________________________________________________________________\n"
          ],
          "name": "stdout"
        }
      ]
    },
    {
      "cell_type": "code",
      "metadata": {
        "id": "NA_PKjMKBnDm",
        "colab_type": "code",
        "colab": {}
      },
      "source": [
        "model.compile(optimizer='Adam',\n",
        "              loss='categorical_crossentropy', #as we have many classes\n",
        "              metrics=['accuracy']\n",
        "              )"
      ],
      "execution_count": 0,
      "outputs": []
    },
    {
      "cell_type": "markdown",
      "metadata": {
        "id": "YQiHiFAhC6GC",
        "colab_type": "text"
      },
      "source": [
        "# to_categorical"
      ]
    },
    {
      "cell_type": "code",
      "metadata": {
        "id": "-wjIISrSDApH",
        "colab_type": "code",
        "colab": {
          "base_uri": "https://localhost:8080/",
          "height": 34
        },
        "outputId": "bcab6616-fee6-4a32-8a6e-a7cae1fe2d41"
      },
      "source": [
        "train_labels[0]"
      ],
      "execution_count": 14,
      "outputs": [
        {
          "output_type": "execute_result",
          "data": {
            "text/plain": [
              "5"
            ]
          },
          "metadata": {
            "tags": []
          },
          "execution_count": 14
        }
      ]
    },
    {
      "cell_type": "code",
      "metadata": {
        "id": "IWxZhcXEDJi3",
        "colab_type": "code",
        "colab": {
          "base_uri": "https://localhost:8080/",
          "height": 34
        },
        "outputId": "04c42080-b066-4485-b0cc-74697b513f95"
      },
      "source": [
        "to_categorical(train_labels[0])"
      ],
      "execution_count": 15,
      "outputs": [
        {
          "output_type": "execute_result",
          "data": {
            "text/plain": [
              "array([0., 0., 0., 0., 0., 1.], dtype=float32)"
            ]
          },
          "metadata": {
            "tags": []
          },
          "execution_count": 15
        }
      ]
    },
    {
      "cell_type": "code",
      "metadata": {
        "id": "j0E7ShN3DTa-",
        "colab_type": "code",
        "colab": {
          "base_uri": "https://localhost:8080/",
          "height": 34
        },
        "outputId": "1ba2cfbe-f82a-4662-c266-41c2894a902c"
      },
      "source": [
        "to_categorical(8)"
      ],
      "execution_count": 16,
      "outputs": [
        {
          "output_type": "execute_result",
          "data": {
            "text/plain": [
              "array([0., 0., 0., 0., 0., 0., 0., 0., 1.], dtype=float32)"
            ]
          },
          "metadata": {
            "tags": []
          },
          "execution_count": 16
        }
      ]
    },
    {
      "cell_type": "markdown",
      "metadata": {
        "id": "CE6OOodVDa2v",
        "colab_type": "text"
      },
      "source": [
        "to_categorical converts a no. into a vector of numbers of 0 and 1 .1 for the no. it actually is and rest all 0."
      ]
    },
    {
      "cell_type": "markdown",
      "metadata": {
        "id": "2k-5U9b0C0dD",
        "colab_type": "text"
      },
      "source": [
        "# Train"
      ]
    },
    {
      "cell_type": "code",
      "metadata": {
        "id": "6QFv-nHrCub1",
        "colab_type": "code",
        "colab": {
          "base_uri": "https://localhost:8080/",
          "height": 374
        },
        "outputId": "4efcac01-7948-4238-c03c-5f53624a5888"
      },
      "source": [
        "model.fit(\n",
        "    train_n_images,\n",
        "    to_categorical(train_labels),\n",
        "    epochs=10,\n",
        "    batch_size=32 # no. of samples per gradient update\n",
        ")"
      ],
      "execution_count": 19,
      "outputs": [
        {
          "output_type": "stream",
          "text": [
            "Epoch 1/10\n",
            "60000/60000 [==============================] - 5s 85us/step - loss: 0.0937 - accuracy: 0.9700\n",
            "Epoch 2/10\n",
            "60000/60000 [==============================] - 5s 84us/step - loss: 0.0833 - accuracy: 0.9735\n",
            "Epoch 3/10\n",
            "60000/60000 [==============================] - 5s 83us/step - loss: 0.0773 - accuracy: 0.9750\n",
            "Epoch 4/10\n",
            "60000/60000 [==============================] - 5s 82us/step - loss: 0.0718 - accuracy: 0.9772\n",
            "Epoch 5/10\n",
            "60000/60000 [==============================] - 5s 82us/step - loss: 0.0676 - accuracy: 0.9776\n",
            "Epoch 6/10\n",
            "60000/60000 [==============================] - 5s 82us/step - loss: 0.0638 - accuracy: 0.9793\n",
            "Epoch 7/10\n",
            "60000/60000 [==============================] - 5s 83us/step - loss: 0.0603 - accuracy: 0.9804\n",
            "Epoch 8/10\n",
            "60000/60000 [==============================] - 5s 82us/step - loss: 0.0561 - accuracy: 0.9814\n",
            "Epoch 9/10\n",
            "60000/60000 [==============================] - 5s 82us/step - loss: 0.0534 - accuracy: 0.9823\n",
            "Epoch 10/10\n",
            "60000/60000 [==============================] - 5s 82us/step - loss: 0.0511 - accuracy: 0.9830\n"
          ],
          "name": "stdout"
        },
        {
          "output_type": "execute_result",
          "data": {
            "text/plain": [
              "<keras.callbacks.callbacks.History at 0x7fc19a653828>"
            ]
          },
          "metadata": {
            "tags": []
          },
          "execution_count": 19
        }
      ]
    },
    {
      "cell_type": "code",
      "metadata": {
        "id": "J2usF_9ICz0G",
        "colab_type": "code",
        "colab": {
          "base_uri": "https://localhost:8080/",
          "height": 374
        },
        "outputId": "437d07c1-4a71-4f39-9e99-966890a5e529"
      },
      "source": [
        "model.fit(\n",
        "    train_n_images,\n",
        "    to_categorical(train_labels),\n",
        "    epochs=10,\n",
        "    batch_size=32 # no. of samples per gradient update\n",
        ")"
      ],
      "execution_count": 20,
      "outputs": [
        {
          "output_type": "stream",
          "text": [
            "Epoch 1/10\n",
            "60000/60000 [==============================] - 5s 82us/step - loss: 0.0493 - accuracy: 0.9838\n",
            "Epoch 2/10\n",
            "60000/60000 [==============================] - 5s 81us/step - loss: 0.0452 - accuracy: 0.9851\n",
            "Epoch 3/10\n",
            "60000/60000 [==============================] - 5s 81us/step - loss: 0.0437 - accuracy: 0.9854\n",
            "Epoch 4/10\n",
            "60000/60000 [==============================] - 5s 81us/step - loss: 0.0424 - accuracy: 0.9858\n",
            "Epoch 5/10\n",
            "60000/60000 [==============================] - 5s 82us/step - loss: 0.0409 - accuracy: 0.9864\n",
            "Epoch 6/10\n",
            "60000/60000 [==============================] - 5s 83us/step - loss: 0.0372 - accuracy: 0.9874\n",
            "Epoch 7/10\n",
            "60000/60000 [==============================] - 5s 82us/step - loss: 0.0352 - accuracy: 0.9877\n",
            "Epoch 8/10\n",
            "60000/60000 [==============================] - 5s 82us/step - loss: 0.0360 - accuracy: 0.9879\n",
            "Epoch 9/10\n",
            "60000/60000 [==============================] - 5s 81us/step - loss: 0.0356 - accuracy: 0.9875\n",
            "Epoch 10/10\n",
            "60000/60000 [==============================] - 5s 82us/step - loss: 0.0334 - accuracy: 0.9887\n"
          ],
          "name": "stdout"
        },
        {
          "output_type": "execute_result",
          "data": {
            "text/plain": [
              "<keras.callbacks.callbacks.History at 0x7fc19a5ff6a0>"
            ]
          },
          "metadata": {
            "tags": []
          },
          "execution_count": 20
        }
      ]
    },
    {
      "cell_type": "code",
      "metadata": {
        "id": "9LhTc-GQFLgf",
        "colab_type": "code",
        "colab": {
          "base_uri": "https://localhost:8080/",
          "height": 374
        },
        "outputId": "a5599386-4f64-41f3-ccfe-a1cbcfc696a3"
      },
      "source": [
        "model.fit(\n",
        "    train_n_images,\n",
        "    to_categorical(train_labels),\n",
        "    epochs=10,\n",
        "    batch_size=32 # no. of samples per gradient update\n",
        ")"
      ],
      "execution_count": 21,
      "outputs": [
        {
          "output_type": "stream",
          "text": [
            "Epoch 1/10\n",
            "60000/60000 [==============================] - 5s 82us/step - loss: 0.0310 - accuracy: 0.9898\n",
            "Epoch 2/10\n",
            "60000/60000 [==============================] - 5s 81us/step - loss: 0.0311 - accuracy: 0.9890\n",
            "Epoch 3/10\n",
            "60000/60000 [==============================] - 5s 81us/step - loss: 0.0301 - accuracy: 0.9901\n",
            "Epoch 4/10\n",
            "60000/60000 [==============================] - 5s 83us/step - loss: 0.0282 - accuracy: 0.9901\n",
            "Epoch 5/10\n",
            "60000/60000 [==============================] - 5s 87us/step - loss: 0.0281 - accuracy: 0.9905\n",
            "Epoch 6/10\n",
            "60000/60000 [==============================] - 5s 86us/step - loss: 0.0272 - accuracy: 0.9908\n",
            "Epoch 7/10\n",
            "60000/60000 [==============================] - 5s 80us/step - loss: 0.0272 - accuracy: 0.9908\n",
            "Epoch 8/10\n",
            "60000/60000 [==============================] - 5s 80us/step - loss: 0.0268 - accuracy: 0.9908\n",
            "Epoch 9/10\n",
            "60000/60000 [==============================] - 5s 81us/step - loss: 0.0273 - accuracy: 0.9907\n",
            "Epoch 10/10\n",
            "60000/60000 [==============================] - 5s 80us/step - loss: 0.0271 - accuracy: 0.9908\n"
          ],
          "name": "stdout"
        },
        {
          "output_type": "execute_result",
          "data": {
            "text/plain": [
              "<keras.callbacks.callbacks.History at 0x7fc19a5ff7f0>"
            ]
          },
          "metadata": {
            "tags": []
          },
          "execution_count": 21
        }
      ]
    },
    {
      "cell_type": "markdown",
      "metadata": {
        "id": "jR12ixEwGGv4",
        "colab_type": "text"
      },
      "source": [
        "So here we got 99.08% accuracy,and loss 0.0271"
      ]
    },
    {
      "cell_type": "markdown",
      "metadata": {
        "id": "NMwPdjMNFy_e",
        "colab_type": "text"
      },
      "source": [
        "# Evaluate"
      ]
    },
    {
      "cell_type": "code",
      "metadata": {
        "id": "mQ52Z19ZFa_N",
        "colab_type": "code",
        "colab": {
          "base_uri": "https://localhost:8080/",
          "height": 51
        },
        "outputId": "7b8ca6fb-da64-4671-ffab-cbd395842652"
      },
      "source": [
        "model.evaluate(\n",
        "    test_n_images,\n",
        "    to_categorical(test_labels)\n",
        ")"
      ],
      "execution_count": 22,
      "outputs": [
        {
          "output_type": "stream",
          "text": [
            "10000/10000 [==============================] - 1s 52us/step\n"
          ],
          "name": "stdout"
        },
        {
          "output_type": "execute_result",
          "data": {
            "text/plain": [
              "[0.13788925925763973, 0.9724000096321106]"
            ]
          },
          "metadata": {
            "tags": []
          },
          "execution_count": 22
        }
      ]
    },
    {
      "cell_type": "markdown",
      "metadata": {
        "id": "_ubSTaUXGgLW",
        "colab_type": "text"
      },
      "source": [
        "Here we got 97.24% accuracy and loss of 0.137"
      ]
    },
    {
      "cell_type": "markdown",
      "metadata": {
        "id": "juL7tk5DGyWs",
        "colab_type": "text"
      },
      "source": [
        "# save our model"
      ]
    },
    {
      "cell_type": "code",
      "metadata": {
        "id": "7gg1gZaWG23l",
        "colab_type": "code",
        "colab": {}
      },
      "source": [
        "model.save_weights('/content/drive/My Drive/weights/Mnist_weights.h5')"
      ],
      "execution_count": 0,
      "outputs": []
    },
    {
      "cell_type": "markdown",
      "metadata": {
        "id": "_UNObUliGqh8",
        "colab_type": "text"
      },
      "source": [
        "# Predictions"
      ]
    },
    {
      "cell_type": "markdown",
      "metadata": {
        "id": "oAk2-wsJH1k3",
        "colab_type": "text"
      },
      "source": [
        "Lets predict on first 5 test images "
      ]
    },
    {
      "cell_type": "code",
      "metadata": {
        "id": "wG8PVeeeGChi",
        "colab_type": "code",
        "colab": {
          "base_uri": "https://localhost:8080/",
          "height": 187
        },
        "outputId": "5b746903-bc52-4bff-d829-9de378b8e448"
      },
      "source": [
        "predictions=model.predict(test_n_images[0:5])\n",
        "print(predictions)"
      ],
      "execution_count": 25,
      "outputs": [
        {
          "output_type": "stream",
          "text": [
            "[[7.1283444e-11 5.9659191e-17 1.7190382e-08 1.6856305e-09 1.6684949e-13\n",
            "  4.1542079e-15 2.5387611e-20 1.0000000e+00 1.4284240e-10 1.7349480e-08]\n",
            " [4.0604554e-14 6.1288892e-14 1.0000000e+00 1.8343288e-10 1.8577284e-22\n",
            "  9.3687894e-13 1.2445938e-11 6.0858585e-14 1.2681072e-16 2.6320137e-25]\n",
            " [1.9362664e-10 9.9989903e-01 3.9675976e-07 4.5775234e-08 2.2572381e-08\n",
            "  5.7364133e-07 1.3821684e-09 9.9196717e-05 7.0588834e-07 9.7267860e-11]\n",
            " [9.9999964e-01 2.8975082e-28 3.4281123e-07 2.0230348e-19 8.7036032e-09\n",
            "  3.3684277e-16 4.8280889e-12 2.2192559e-08 2.8701227e-16 3.4392634e-12]\n",
            " [9.0312076e-19 1.9038945e-17 1.9761912e-13 1.9075651e-18 9.9997795e-01\n",
            "  6.5750420e-18 8.7687683e-16 2.8407534e-09 2.3134450e-16 2.2044876e-05]]\n"
          ],
          "name": "stdout"
        }
      ]
    },
    {
      "cell_type": "markdown",
      "metadata": {
        "id": "8ddj4zt5IS6H",
        "colab_type": "text"
      },
      "source": [
        "See each predictions have 10 probability values for each class"
      ]
    },
    {
      "cell_type": "code",
      "metadata": {
        "id": "5aE-c87OIPYH",
        "colab_type": "code",
        "colab": {
          "base_uri": "https://localhost:8080/",
          "height": 68
        },
        "outputId": "c3995279-c784-492d-d700-7745d6df3deb"
      },
      "source": [
        "predictions[0]"
      ],
      "execution_count": 26,
      "outputs": [
        {
          "output_type": "execute_result",
          "data": {
            "text/plain": [
              "array([7.1283444e-11, 5.9659191e-17, 1.7190382e-08, 1.6856305e-09,\n",
              "       1.6684949e-13, 4.1542079e-15, 2.5387611e-20, 1.0000000e+00,\n",
              "       1.4284240e-10, 1.7349480e-08], dtype=float32)"
            ]
          },
          "metadata": {
            "tags": []
          },
          "execution_count": 26
        }
      ]
    },
    {
      "cell_type": "markdown",
      "metadata": {
        "id": "ssZdG0byIuh0",
        "colab_type": "text"
      },
      "source": [
        "So here we have to select the class with highest probability"
      ]
    },
    {
      "cell_type": "code",
      "metadata": {
        "id": "K7-mbDO4IGL_",
        "colab_type": "code",
        "colab": {
          "base_uri": "https://localhost:8080/",
          "height": 51
        },
        "outputId": "aa2be901-0cc8-4a43-faf9-da524ee7b2d9"
      },
      "source": [
        "print(np.argmax(predictions,axis=1)) #our predictions\n",
        "prediction=np.argmax(predictions,axis=1)\n",
        "print(test_labels[0:5])"
      ],
      "execution_count": 29,
      "outputs": [
        {
          "output_type": "stream",
          "text": [
            "[7 2 1 0 4]\n",
            "[7 2 1 0 4]\n"
          ],
          "name": "stdout"
        }
      ]
    },
    {
      "cell_type": "markdown",
      "metadata": {
        "id": "mzTsRAOpJVD-",
        "colab_type": "text"
      },
      "source": [
        "So see our predictons are right"
      ]
    },
    {
      "cell_type": "markdown",
      "metadata": {
        "id": "ISFAh3roJZfn",
        "colab_type": "text"
      },
      "source": [
        "See the images of predictions"
      ]
    },
    {
      "cell_type": "code",
      "metadata": {
        "id": "xZMY-PiyJEOH",
        "colab_type": "code",
        "colab": {
          "base_uri": "https://localhost:8080/",
          "height": 1000
        },
        "outputId": "a2df3795-0cd0-411c-a24a-c994daa3c52b"
      },
      "source": [
        "for i in range(5):\n",
        "  print(\"prediction:\",prediction[i])\n",
        "  plt.imshow(test_images[i])\n",
        "  plt.show()"
      ],
      "execution_count": 31,
      "outputs": [
        {
          "output_type": "stream",
          "text": [
            "prediction: 7\n"
          ],
          "name": "stdout"
        },
        {
          "output_type": "display_data",
          "data": {
            "image/png": "[encoded data removed]",
            "text/plain": [
              "<Figure size 432x288 with 1 Axes>"
            ]
          },
          "metadata": {
            "tags": [],
            "needs_background": "light"
          }
        },
        {
          "output_type": "stream",
          "text": [
            "prediction: 2\n"
          ],
          "name": "stdout"
        },
        {
          "output_type": "display_data",
          "data": {
            "image/png": "[encoded data removed]",
            "text/plain": [
              "<Figure size 432x288 with 1 Axes>"
            ]
          },
          "metadata": {
            "tags": [],
            "needs_background": "light"
          }
        },
        {
          "output_type": "stream",
          "text": [
            "prediction: 1\n"
          ],
          "name": "stdout"
        },
        {
          "output_type": "display_data",
          "data": {
            "image/png": "[encoded data removed]",
            "text/plain": [
              "<Figure size 432x288 with 1 Axes>"
            ]
          },
          "metadata": {
            "tags": [],
            "needs_background": "light"
          }
        },
        {
          "output_type": "stream",
          "text": [
            "prediction: 0\n"
          ],
          "name": "stdout"
        },
        {
          "output_type": "display_data",
          "data": {
            "image/png": "[encoded data removed]",
            "text/plain": [
              "<Figure size 432x288 with 1 Axes>"
            ]
          },
          "metadata": {
            "tags": [],
            "needs_background": "light"
          }
        },
        {
          "output_type": "stream",
          "text": [
            "prediction: 4\n"
          ],
          "name": "stdout"
        },
        {
          "output_type": "display_data",
          "data": {
            "image/png": "[encoded data removed]",
            "text/plain": [
              "<Figure size 432x288 with 1 Axes>"
            ]
          },
          "metadata": {
            "tags": [],
            "needs_background": "light"
          }
        }
      ]
    },
    {
      "cell_type": "code",
      "metadata": {
        "id": "DcBrel6OJ5oI",
        "colab_type": "code",
        "colab": {
          "base_uri": "https://localhost:8080/",
          "height": 1000
        },
        "outputId": "fa28bf6a-174f-4cc8-b985-599808e74c4e"
      },
      "source": [
        "for i in range(5):\n",
        "  print(\"prediction:\",prediction[i])\n",
        "  plt.imshow(test_images[i],cmap='gray') # to see the images in gray\n",
        "  plt.show()"
      ],
      "execution_count": 32,
      "outputs": [
        {
          "output_type": "stream",
          "text": [
            "prediction: 7\n"
          ],
          "name": "stdout"
        },
        {
          "output_type": "display_data",
          "data": {
            "image/png": "[encoded data removed]",
            "text/plain": [
              "<Figure size 432x288 with 1 Axes>"
            ]
          },
          "metadata": {
            "tags": [],
            "needs_background": "light"
          }
        },
        {
          "output_type": "stream",
          "text": [
            "prediction: 2\n"
          ],
          "name": "stdout"
        },
        {
          "output_type": "display_data",
          "data": {
            "image/png": "[encoded data removed]",
            "text/plain": [
              "<Figure size 432x288 with 1 Axes>"
            ]
          },
          "metadata": {
            "tags": [],
            "needs_background": "light"
          }
        },
        {
          "output_type": "stream",
          "text": [
            "prediction: 1\n"
          ],
          "name": "stdout"
        },
        {
          "output_type": "display_data",
          "data": {
            "image/png": "[encoded data removed]",
            "text/plain": [
              "<Figure size 432x288 with 1 Axes>"
            ]
          },
          "metadata": {
            "tags": [],
            "needs_background": "light"
          }
        },
        {
          "output_type": "stream",
          "text": [
            "prediction: 0\n"
          ],
          "name": "stdout"
        },
        {
          "output_type": "display_data",
          "data": {
            "image/png": "[encoded data removed]",
            "text/plain": [
              "<Figure size 432x288 with 1 Axes>"
            ]
          },
          "metadata": {
            "tags": [],
            "needs_background": "light"
          }
        },
        {
          "output_type": "stream",
          "text": [
            "prediction: 4\n"
          ],
          "name": "stdout"
        },
        {
          "output_type": "display_data",
          "data": {
            "image/png": "[encoded data removed]",
            "text/plain": [
              "<Figure size 432x288 with 1 Axes>"
            ]
          },
          "metadata": {
            "tags": [],
            "needs_background": "light"
          }
        }
      ]
    },
    {
      "cell_type": "code",
      "metadata": {
        "id": "ePVuzMJtKgyf",
        "colab_type": "code",
        "colab": {}
      },
      "source": [
        ""
      ],
      "execution_count": 0,
      "outputs": []
    }
  ]
}